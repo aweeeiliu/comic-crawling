{
 "cells": [
  {
   "cell_type": "code",
   "execution_count": null,
   "id": "de36cdcf",
   "metadata": {
    "scrolled": true
   },
   "outputs": [],
   "source": [
    "import requests as req\n",
    "import os\n",
    "from bs4 import BeautifulSoup as bs\n",
    "import ssl\n",
    "\n",
    "ssl._create_default_https_context = ssl._create_unverified_context\n",
    "\n",
    "from fake_useragent import UserAgent\n",
    "ua = UserAgent(use_external_data=True)\n",
    "\n",
    "folderPath = 'alice' # foldername refer to the name of comic book\n",
    "if not os.path.exists(folderPath):\n",
    "    os.makedirs(folderPath)\n",
    "    \n",
    "my_headers = {\n",
    "    'user-agent': ua.random\n",
    "}\n",
    "website=\"Insert Your Website\" # 抓取漫畫的來源網站\n",
    "\n",
    "page_comics = [] # 準備放入某回漫畫的每一頁的圖片url\n",
    "story_list=[] #  準備放入每一回漫畫的連結, 每個元素都可連結到對應的回數\n",
    "\n",
    "episodes=1\n",
    "for epi in story_list: # 每一回漫畫中\n",
    "    page_comics = [] # 重製/清空此list\n",
    "    my_headers = {\n",
    "        'user-agent': ua.random\n",
    "    } # fake_useragent reset\n",
    "    \n",
    "    url = epi\n",
    "    res = req.get(url, headers=my_headers)\n",
    "    soup = bs(res.text, 'lxml')\n",
    "    images = soup.select(\"ul.comic-contain > div > amp-img\")\n",
    "    for img in images:\n",
    "        strUrl = img[\"src\"] # 抓出每個元素的'src'的value, 為該圖片的url as a string\n",
    "        page_comics.append(strUrl)\n",
    "        \n",
    "    count=1 # 一回漫畫裡的第幾張, 從1開始數\n",
    "    \n",
    "    for page in page_comics:\n",
    "        os.system(f\"curl {page}?t= -o {folderPath}/{episodes}-{count}.jpg\")\n",
    "        print(f\"第{episodes}回 ID: {count}, 下載連結 {page}?t=\") # ?t=  是真正的圖片網址\n",
    "        count += 1\n",
    "    \n",
    "    episodes += 1 # 全部頁數run完準備進到下一回"
   ]
  }
 ],
 "metadata": {
  "kernelspec": {
   "display_name": "Python 3 (ipykernel)",
   "language": "python",
   "name": "python3"
  },
  "language_info": {
   "codemirror_mode": {
    "name": "ipython",
    "version": 3
   },
   "file_extension": ".py",
   "mimetype": "text/x-python",
   "name": "python",
   "nbconvert_exporter": "python",
   "pygments_lexer": "ipython3",
   "version": "3.9.13"
  }
 },
 "nbformat": 4,
 "nbformat_minor": 5
}
